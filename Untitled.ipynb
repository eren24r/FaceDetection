{
 "cells": [
  {
   "cell_type": "code",
   "execution_count": 13,
   "metadata": {},
   "outputs": [],
   "source": [
    "import numpy as np\n",
    "import face_recognition\n",
    "import cv2\n",
    "import os\n",
    "from datetime import datetime"
   ]
  },
  {
   "cell_type": "code",
   "execution_count": 14,
   "metadata": {},
   "outputs": [
    {
     "name": "stdout",
     "output_type": "stream",
     "text": [
      "['Emomali.jpg', 'nematjon.jpg']\n",
      "['Emomali', 'nematjon']\n"
     ]
    }
   ],
   "source": [
    "path = 'faces'\n",
    "images = []\n",
    "classNames = []\n",
    "myList = os.listdir(path)\n",
    "print(myList)\n",
    "\n",
    "for cls in myList:\n",
    "    curImg = cv2.imread(f'{path}/{cls}')\n",
    "    images.append(curImg)\n",
    "    classNames.append(os.path.splitext(cls)[0])\n",
    "\n",
    "print(classNames)"
   ]
  },
  {
   "cell_type": "code",
   "execution_count": 15,
   "metadata": {},
   "outputs": [
    {
     "name": "stdout",
     "output_type": "stream",
     "text": [
      "Декодирование закончено\n"
     ]
    }
   ],
   "source": [
    "def findEncodings(images):\n",
    "    encodeList = []\n",
    "    for img in images:\n",
    "        img = cv2.cvtColor(img, cv2.COLOR_BGR2RGB)\n",
    "        encode = face_recognition.face_encodings(img)[0]\n",
    "        encodeList.append(encode)\n",
    "    return encodeList\n",
    "\n",
    "def markAttendance(name):\n",
    "    with open(\"Attendance.csv\", \"r+\") as f:\n",
    "        myDataList = f.readlines()\n",
    "        nameList = []\n",
    "        for line in myDataList:\n",
    "            entry = line.split(',')\n",
    "            nameList.append(entry[0])\n",
    "        if name not in nameList:\n",
    "            now = datetime.now()\n",
    "            dtString = now.strftime(\"%H:%M:%S\")\n",
    "            f.writelines(f'\\n{name}, {dtString}')\n",
    "\n",
    "encodeListKnown = findEncodings(images)\n",
    "print(\"Декодирование закончено\")"
   ]
  },
  {
   "cell_type": "code",
   "execution_count": null,
   "metadata": {},
   "outputs": [
    {
     "name": "stdout",
     "output_type": "stream",
     "text": [
      "[0.77513732 0.3918767 ]\n",
      "nematjon\n",
      "[0.76128143 0.40369734]\n",
      "nematjon\n",
      "[0.76891185 0.3949374 ]\n",
      "nematjon\n",
      "[0.77601326 0.36883248]\n",
      "nematjon\n",
      "[0.76720481 0.35881883]\n",
      "nematjon\n",
      "[0.77629751 0.52687248]\n",
      "nematjon\n",
      "[0.76416899 0.5261211 ]\n",
      "nematjon\n",
      "[0.67293007 0.53313952]\n",
      "nematjon\n",
      "[0.67761255 0.47469907]\n",
      "nematjon\n",
      "[0.66615387 0.47463214]\n",
      "nematjon\n",
      "[0.67349332 0.45775882]\n",
      "nematjon\n",
      "[0.65795019 0.56955873]\n",
      "nematjon\n",
      "[0.82028129 0.70894621]\n",
      "[0.85044766 0.62661485]\n",
      "[0.83135018 0.6873517 ]\n",
      "[0.83107761 0.6758175 ]\n",
      "[0.81206259 0.68818935]\n",
      "[0.81097689 0.62436266]\n",
      "[0.80838487 0.67622709]\n",
      "[0.81605522 0.72803259]\n",
      "[0.76884814 0.39350072]\n",
      "nematjon\n",
      "[0.75139043 0.37855375]\n",
      "nematjon\n",
      "[0.74743629 0.37018029]\n",
      "nematjon\n",
      "[0.76114109 0.36637726]\n",
      "nematjon\n",
      "[0.75537787 0.37851914]\n",
      "nematjon\n",
      "[0.77649832 0.48035545]\n",
      "nematjon\n",
      "[0.77657612 0.35225805]\n",
      "nematjon\n",
      "[0.80996759 0.35723756]\n",
      "nematjon\n",
      "[0.79780734 0.35182624]\n",
      "nematjon\n",
      "[0.82272698 0.38236253]\n",
      "nematjon\n",
      "[0.79613809 0.40503943]\n",
      "nematjon\n",
      "[0.7664295  0.39287024]\n",
      "nematjon\n",
      "[0.7741035  0.40679726]\n",
      "nematjon\n",
      "[0.80632106 0.35715729]\n",
      "nematjon\n",
      "[0.78498032 0.39519326]\n",
      "nematjon\n"
     ]
    }
   ],
   "source": [
    "cap = cv2.VideoCapture(0)\n",
    "\n",
    "while True:\n",
    "    success, img = cap.read()\n",
    "    imgS = cv2.resize(img, (0, 0), None, 0.25, 0.25)\n",
    "    imgS = cv2.cvtColor(imgS, cv2.COLOR_BGR2RGB)\n",
    "\n",
    "    facesCurFrame = face_recognition.face_locations(imgS)\n",
    "    encodeCurFrame = face_recognition.face_encodings(imgS, facesCurFrame)\n",
    "\n",
    "    for encodeFace, faceLoc in zip(encodeCurFrame, facesCurFrame):\n",
    "        matches = face_recognition.compare_faces(encodeListKnown, encodeFace)\n",
    "        faceDis = face_recognition.face_distance(encodeListKnown, encodeFace)\n",
    "        print(faceDis)\n",
    "        matchIndex = np.argmin(faceDis)\n",
    "\n",
    "        if matches[matchIndex]:\n",
    "            name = classNames[matchIndex]\n",
    "            print(name)\n",
    "            y1, x2, y2, x1 = faceLoc\n",
    "            y1, x2, y2, x1 = y1 * 4, x2 * 4, y2 * 4, x1 * 4\n",
    "            cv2.rectangle(img, (x1, y1), (x2, y2), (0, 255, 0), 2)\n",
    "            cv2.rectangle(img, (x1, y2 - 35), (x2, y2), (0, 255, 0), cv2.FILLED)\n",
    "            cv2.putText(img, name, (x1 + 6, y2 - 6), cv2.FONT_HERSHEY_COMPLEX, 1, (255, 255, 255), 2)\n",
    "            markAttendance(name)\n",
    "\n",
    "    cv2.imshow(\"WebCam\", img)\n",
    "    cv2.waitKey(1)"
   ]
  },
  {
   "cell_type": "code",
   "execution_count": null,
   "metadata": {},
   "outputs": [],
   "source": []
  },
  {
   "cell_type": "code",
   "execution_count": null,
   "metadata": {},
   "outputs": [],
   "source": []
  },
  {
   "cell_type": "code",
   "execution_count": null,
   "metadata": {},
   "outputs": [],
   "source": []
  },
  {
   "cell_type": "code",
   "execution_count": null,
   "metadata": {},
   "outputs": [],
   "source": []
  },
  {
   "cell_type": "code",
   "execution_count": 2,
   "metadata": {},
   "outputs": [],
   "source": []
  }
 ],
 "metadata": {
  "kernelspec": {
   "display_name": "Python 3",
   "language": "python",
   "name": "python3"
  },
  "language_info": {
   "codemirror_mode": {
    "name": "ipython",
    "version": 3
   },
   "file_extension": ".py",
   "mimetype": "text/x-python",
   "name": "python",
   "nbconvert_exporter": "python",
   "pygments_lexer": "ipython3",
   "version": "3.8.5"
  }
 },
 "nbformat": 4,
 "nbformat_minor": 4
}
